{
 "cells": [
  {
   "cell_type": "markdown",
   "metadata": {},
   "source": [
    "# Growing Decision Trees via ID3/C4.5 & Greedy Learning \n"
   ]
  },
  {
   "cell_type": "markdown",
   "metadata": {},
   "source": [
    "A from-scratch implementation of a growing decision trees ML algorithm for quick classification. We use entropy / 'information gain' as the metric for generating the decision rules.\n"
   ]
  },
  {
   "cell_type": "code",
   "execution_count": null,
   "metadata": {
    "collapsed": true
   },
   "outputs": [],
   "source": []
  },
  {
   "cell_type": "markdown",
   "metadata": {},
   "source": [
    "### Example\n",
    "\n",
    "An application of growing decision trees on a sample dataset. I've included some sample datasets to test the implementation on."
   ]
  },
  {
   "cell_type": "code",
   "execution_count": 71,
   "metadata": {},
   "outputs": [
    {
     "data": {
      "text/html": [
       "<div>\n",
       "<style>\n",
       "    .dataframe thead tr:only-child th {\n",
       "        text-align: right;\n",
       "    }\n",
       "\n",
       "    .dataframe thead th {\n",
       "        text-align: left;\n",
       "    }\n",
       "\n",
       "    .dataframe tbody tr th {\n",
       "        vertical-align: top;\n",
       "    }\n",
       "</style>\n",
       "<table border=\"1\" class=\"dataframe\">\n",
       "  <thead>\n",
       "    <tr style=\"text-align: right;\">\n",
       "      <th></th>\n",
       "      <th>credit-ranking</th>\n",
       "      <th>age</th>\n",
       "      <th>gender</th>\n",
       "      <th>year-income</th>\n",
       "      <th>count</th>\n",
       "    </tr>\n",
       "  </thead>\n",
       "  <tbody>\n",
       "    <tr>\n",
       "      <th>0</th>\n",
       "      <td>Excellent</td>\n",
       "      <td>&lt; 30</td>\n",
       "      <td>M</td>\n",
       "      <td>60k - 100k</td>\n",
       "      <td>16</td>\n",
       "    </tr>\n",
       "    <tr>\n",
       "      <th>1</th>\n",
       "      <td>Excellent</td>\n",
       "      <td>&lt; 30</td>\n",
       "      <td>F</td>\n",
       "      <td>&gt; 100k</td>\n",
       "      <td>4</td>\n",
       "    </tr>\n",
       "    <tr>\n",
       "      <th>2</th>\n",
       "      <td>Excellent</td>\n",
       "      <td>&gt; 60</td>\n",
       "      <td>M</td>\n",
       "      <td>&gt; 100k</td>\n",
       "      <td>4</td>\n",
       "    </tr>\n",
       "    <tr>\n",
       "      <th>3</th>\n",
       "      <td>Excellent</td>\n",
       "      <td>&gt; 60</td>\n",
       "      <td>F</td>\n",
       "      <td>60k - 100k</td>\n",
       "      <td>16</td>\n",
       "    </tr>\n",
       "    <tr>\n",
       "      <th>4</th>\n",
       "      <td>Good</td>\n",
       "      <td>30 - 60</td>\n",
       "      <td>M</td>\n",
       "      <td>&lt; 60k</td>\n",
       "      <td>5</td>\n",
       "    </tr>\n",
       "    <tr>\n",
       "      <th>5</th>\n",
       "      <td>Good</td>\n",
       "      <td>30 - 60</td>\n",
       "      <td>F</td>\n",
       "      <td>60k - 100k</td>\n",
       "      <td>15</td>\n",
       "    </tr>\n",
       "    <tr>\n",
       "      <th>6</th>\n",
       "      <td>Good</td>\n",
       "      <td>&lt; 30</td>\n",
       "      <td>M</td>\n",
       "      <td>&gt; 100k</td>\n",
       "      <td>5</td>\n",
       "    </tr>\n",
       "    <tr>\n",
       "      <th>7</th>\n",
       "      <td>Good</td>\n",
       "      <td>&lt; 30</td>\n",
       "      <td>F</td>\n",
       "      <td>60k - 100k</td>\n",
       "      <td>15</td>\n",
       "    </tr>\n",
       "    <tr>\n",
       "      <th>8</th>\n",
       "      <td>Fair</td>\n",
       "      <td>&gt; 60</td>\n",
       "      <td>M</td>\n",
       "      <td>&gt; 100k</td>\n",
       "      <td>2</td>\n",
       "    </tr>\n",
       "    <tr>\n",
       "      <th>9</th>\n",
       "      <td>Fair</td>\n",
       "      <td>30 - 60</td>\n",
       "      <td>F</td>\n",
       "      <td>60k - 100k</td>\n",
       "      <td>2</td>\n",
       "    </tr>\n",
       "    <tr>\n",
       "      <th>10</th>\n",
       "      <td>Fair</td>\n",
       "      <td>&lt; 30</td>\n",
       "      <td>M</td>\n",
       "      <td>60k - 100k</td>\n",
       "      <td>18</td>\n",
       "    </tr>\n",
       "    <tr>\n",
       "      <th>11</th>\n",
       "      <td>Fair</td>\n",
       "      <td>&lt; 30</td>\n",
       "      <td>F</td>\n",
       "      <td>&lt; 60k</td>\n",
       "      <td>18</td>\n",
       "    </tr>\n",
       "  </tbody>\n",
       "</table>\n",
       "</div>"
      ],
      "text/plain": [
       "   credit-ranking      age gender year-income count\n",
       "0       Excellent     < 30      M  60k - 100k    16\n",
       "1       Excellent     < 30      F      > 100k     4\n",
       "2       Excellent     > 60      M      > 100k     4\n",
       "3       Excellent     > 60      F  60k - 100k    16\n",
       "4            Good  30 - 60      M       < 60k     5\n",
       "5            Good  30 - 60      F  60k - 100k    15\n",
       "6            Good     < 30      M      > 100k     5\n",
       "7            Good     < 30      F  60k - 100k    15\n",
       "8            Fair     > 60      M      > 100k     2\n",
       "9            Fair  30 - 60      F  60k - 100k     2\n",
       "10           Fair     < 30      M  60k - 100k    18\n",
       "11           Fair     < 30      F       < 60k    18"
      ]
     },
     "execution_count": 71,
     "metadata": {},
     "output_type": "execute_result"
    }
   ],
   "source": [
    "import pandas as pd\n",
    "\n",
    "### Entering data as columns - pandas reads them as tuples though so they will have to be transformed\n",
    "credit_ranking_data = [\"Excellent\",\"Excellent\",\"Excellent\",\"Excellent\",\"Good\",\"Good\",\"Good\",\"Good\",\"Fair\",\"Fair\",\"Fair\",\"Fair\"]\n",
    "age_data = [\"< 30\",\"< 30\",\"> 60\",\"> 60\",\"30 - 60\",\"30 - 60\",\"< 30\",\"< 30\",\"> 60\",\"30 - 60\",\"< 30\",\"< 30\"]\n",
    "gender_data = [\"M\",\"F\",\"M\",\"F\",\"M\",\"F\",\"M\",\"F\",\"M\",\"F\",\"M\",\"F\"]\n",
    "year_income_data = [\"60k - 100k\",\"> 100k\",\"> 100k\",\"60k - 100k\",\"< 60k\",\"60k - 100k\",\"> 100k\",\"60k - 100k\",\"> 100k\",\"60k - 100k\",\"60k - 100k\",\"< 60k\"]\n",
    "counts_data = [16,4,4,16,5,15,5,15,2,2,18,18]\n",
    "\n",
    "ex_df = pd.DataFrame.from_records(data = [ credit_ranking_data, age_data, gender_data, year_income_data, counts_data])\n",
    "### Transpose to put in proper form\n",
    "ex_df = ex_df.T\n",
    "### Add column labels\n",
    "cols = [\"credit-ranking\",\"age\",\"gender\",\"year-income\",\"count\"]\n",
    "ex_df.columns = cols\n",
    "(ex_df) # just checking"
   ]
  },
  {
   "cell_type": "markdown",
   "metadata": {},
   "source": [
    "The bank-dataset table above is a useful illustration of the kind of formatting the algorithm expects:\n",
    "\n",
    "* The desired class-label column is the first column (this can be adjusted to be more flexible in the future)\n",
    "* The last column is a count column (this  can be easily found by using aggregation functions on an arbitrary dataset)\n"
   ]
  },
  {
   "cell_type": "markdown",
   "metadata": {},
   "source": [
    "In the following, I walk through construction of the information purity heuristic which we use to grow the decision tree.\n",
    "\n",
    "## Information Purity Measures"
   ]
  },
  {
   "cell_type": "code",
   "execution_count": 72,
   "metadata": {},
   "outputs": [],
   "source": [
    "import math\n",
    "\n",
    "# term from info function I\n",
    "def p_logp(p): # scope --- p is proportion from 0 to 1\n",
    "    if (p < 10**(-10)) | (p > 1 - 10**(-10)) :\n",
    "        return 0\n",
    "    else: return (-1) * p * math.log2(p)\n",
    "    "
   ]
  },
  {
   "cell_type": "markdown",
   "metadata": {},
   "source": [
    "We can use the \"p_logp\" function to compute the statistical information entropy (physical measure) that occurs from observing a proportion $p$ of observations:"
   ]
  },
  {
   "cell_type": "code",
   "execution_count": 10,
   "metadata": {},
   "outputs": [
    {
     "data": {
      "image/png": "[encoded data removed]",
      "text/plain": [
       "<matplotlib.figure.Figure at 0x11337f390>"
      ]
     },
     "metadata": {},
     "output_type": "display_data"
    }
   ],
   "source": [
    "## EXAMPLE BASIC ENTROPY FUNCTION\n",
    "granularity = 100\n",
    "domain = [x/granularity for x in range(granularity+1)]\n",
    "entropy_range = [ p_logp(p) + p_logp(1-p) for p in domain ]\n",
    "# print(entropy_range)\n",
    "\n",
    "import matplotlib.pyplot as plt\n",
    "plt.scatter(domain,entropy_range)\n",
    "plt.ylabel('entropy = -[plog(p) + (1-p)log(1-p)]')\n",
    "plt.show()"
   ]
  },
  {
   "cell_type": "code",
   "execution_count": 11,
   "metadata": {},
   "outputs": [],
   "source": [
    "# information measure\n",
    "\n",
    "def info_measure(vector): ### NOTE: vector should be of counts, so all terms in it ≥ 0!! ADD CODE TO CHECK THIS LATER\n",
    "    \n",
    "#     if vector == [0]*len(vector):  return 0\n",
    "    if sum(vector) == 0:  return 0\n",
    "    return sum( [ p_logp( s/sum(vector) ) for s in vector ] )\n"
   ]
  },
  {
   "cell_type": "markdown",
   "metadata": {},
   "source": [
    "## The Information measure $I(\\mathbf{x}) = - \\sum \\left(\\frac{x_i}{ \\sum x_i } \\right) \\log_2 \\left(\\frac{x_i}{ \\sum x_i } \\right)$\n",
    "generalizes this entropy measure to proportions drawn from higher-dimension source - ie, more than the two states corresponding to $p$ and $1-p$ (the interpretation of $\\mathbf{x}$ is as a list of counts for the different states $i$). Thinking back to the basic entropy function we introduced, which came from our '$p \\log_2 p$' function, if $p$ is the proportion $k/n$ then the basic entropy function was $I(\\mathbf{x})$ where $\\mathbf{x} = (k,n-k)$.\n",
    "\n",
    "In general, this measures the amount of information required to classify a tuple $\\mathbf{x}$ to $m$ classes (if the input $\\mathbf{x}$ is an $m$-vector).\n",
    "\n",
    "### Consider: plotting the information measure over an input of datapoints uniformly sampled from a 2D circle\n"
   ]
  },
  {
   "cell_type": "code",
   "execution_count": 98,
   "metadata": {},
   "outputs": [
    {
     "data": {
      "image/png": "[encoded data removed]",
      "text/plain": [
       "<matplotlib.figure.Figure at 0x11cfb7dd8>"
      ]
     },
     "metadata": {},
     "output_type": "display_data"
    }
   ],
   "source": [
    "## EXAMPLE of the INFORMATION Measure on the input of a 2D circle\n",
    "\n",
    "from mpl_toolkits.mplot3d import Axes3D\n",
    "import matplotlib.pyplot as plt\n",
    "\n",
    "import random\n",
    "\n",
    "def circleplot(granularity,color=[random.random() for i in range(3)]):\n",
    "    \n",
    "#     granularity = 10000\n",
    "    domain = [[x/granularity, (1-(x/granularity)**2)**0.5] for x in range(granularity+1)]\n",
    "    entropy_range = [ info_measure(x) for x in domain ]\n",
    "    # print(entropy_range)\n",
    "\n",
    "    fig = plt.figure()\n",
    "    ax = fig.add_subplot(1,1,1, projection='3d')\n",
    "\n",
    "    circ_points = [ x + [z] for x,z in zip(domain,entropy_range) ]\n",
    "\n",
    "    xs = [x[0] for x in circ_points]\n",
    "    ys = [x[1] for x in circ_points]\n",
    "    zs = [x[2] for x in circ_points]\n",
    "\n",
    "    ### different rectangular parametrizations of a 2d-circle\n",
    "    ### we plot entropy associated with a particular configuration of points\n",
    "    ax.scatter( xs,ys,zs , c=color)\n",
    "    ax.scatter( xs,[-y for y in ys],zs , c=color )\n",
    "    ax.scatter( [-x for x in xs],ys,zs , c=color)\n",
    "    ax.scatter( [-x for x in xs],[-y for y in ys],zs , c=color)\n",
    "\n",
    "    ax.set_xlabel('X')\n",
    "    ax.set_ylabel('Y')\n",
    "    ax.set_zlabel('Z')\n",
    "\n",
    "    # plt.scatter([x[0] for x in domain],entropy_range)\n",
    "    # plt.scatter([x[1] for x in domain],entropy_range)\n",
    "    # plt.ylabel('some numbers')\n",
    "    plt.show()\n",
    "\n",
    "circleplot(1000, 'goldenrod') # shortcut code"
   ]
  },
  {
   "cell_type": "markdown",
   "metadata": {},
   "source": [
    "## Another example: \n",
    "Plot the information metric for classifying 2D points $(x,y)$ over a rectangular region $x,y \\in [0,1]$ (aka $[0,1] \\times [0,1]$)."
   ]
  },
  {
   "cell_type": "code",
   "execution_count": 13,
   "metadata": {},
   "outputs": [
    {
     "data": {
      "image/png": "[encoded data removed]",
      "text/plain": [
       "<matplotlib.figure.Figure at 0x11c31d5f8>"
      ]
     },
     "metadata": {},
     "output_type": "display_data"
    }
   ],
   "source": [
    "from mpl_toolkits.mplot3d import Axes3D\n",
    "import matplotlib.pyplot as plt\n",
    "\n",
    "granularity = 25\n",
    "domain = [[x/granularity, y/granularity] for x in range(granularity+1) for y in range(granularity+1)]\n",
    "entropy_range = [ info_measure(x) for x in domain ]\n",
    "# print(entropy_range)\n",
    "\n",
    "\n",
    "fig = plt.figure()\n",
    "ax = fig.add_subplot(1,1,1, projection='3d')\n",
    "\n",
    "rect_points = [ x + [z] for x,z in zip(domain,entropy_range) ]\n",
    "\n",
    "xs = [x[0] for x in rect_points]\n",
    "ys = [x[1] for x in rect_points]\n",
    "zs = [x[2] for x in rect_points]\n",
    "\n",
    "### we plot entropy associated with a particular configuration of points\n",
    "ax.scatter( xs,ys,zs , c=\"goldenrod\")\n",
    "\n",
    "# ### plot circle for comparison\n",
    "\n",
    "# #####\n",
    "\n",
    "# granularity = 100\n",
    "# domain = [[x/granularity, (1-(x/granularity)**2)**0.5] for x in range(granularity+1)]\n",
    "# entropy_range = [ info_measure(x) for x in domain ]\n",
    "\n",
    "# circ_points = [ x + [z] for x,z in zip(domain,entropy_range) ]\n",
    "\n",
    "# xs = [x[0] for x in circ_points]\n",
    "# ys = [x[1] for x in circ_points]\n",
    "# zs = [x[2] for x in circ_points]\n",
    "\n",
    "# ### different rectangular parametrizations of a 2d-circle\n",
    "# ### we plot entropy associated with a particular configuration of points\n",
    "# ax.scatter( xs,ys,zs , c='blue')\n",
    "# # ax.scatter( xs,[-y for y in ys],zs , c='blue' )\n",
    "# # ax.scatter( [-x for x in xs],ys,zs , c='blue')\n",
    "# # ax.scatter( [-x for x in xs],[-y for y in ys],zs , c='blue')\n",
    "\n",
    "# #####\n",
    "\n",
    "ax.set_xlabel('X')\n",
    "ax.set_ylabel('Y')\n",
    "ax.set_zlabel('Z')\n",
    "\n",
    "# plt.scatter([x[0] for x in domain],entropy_range)\n",
    "# plt.scatter([x[1] for x in domain],entropy_range)\n",
    "# plt.ylabel('some numbers')\n",
    "plt.show()"
   ]
  },
  {
   "cell_type": "markdown",
   "metadata": {},
   "source": [
    "Comparison of Plots: [TBD]"
   ]
  },
  {
   "cell_type": "markdown",
   "metadata": {},
   "source": [
    "## Entropy Function\n",
    "\n",
    "Next, we want to use the information measure to formally define an entropy function for attributes of a dataset, which is based off a weighted sum of the aggregate information measures for a given configuration of data: If the attribute $A$ with values $\\{ a_1 , \\dots , a_\\nu \\}$ partitions the dataset into subsets $\\{S_1, \\dots , S_\\nu\\}$, and $S_j$ contains $s_{ij}$ samples of a given class class $C_i$, then the entropy associated with $A$ is \n",
    "\n",
    "$$\n",
    "E ( A ) = \\sum_{j=1} ^\\nu \\frac{ s_{1j} + \\cdots + s_{mj} }{\\sum_{ij} s_{ij}} I(s_{1j} , \\dots , s_{mj})\n",
    "$$\n",
    "\n",
    "Some observations –– from intuition (and by studying its defining equation) we can see that $I ( \\mathbf{x} )$ tends to be maximized along the line $x_1 = x_2 = \\cdots = x_m$, and hence so does the entropy function. As the interpretation of these $x_i$ was as counts for different states $i$, this means roughly speaking that we maximize entropy when the counts are similar and minimize it when they are very different. The metric we will use to grow the decision tree is information purity, or information gain, which increases as entropy decreases. So, we will maximize this when we split over branches where the counts tend to be most dissimilar. This all makes sense too, as if the counts are very dissimilar, than intuitively it is easier to predict a class label based on the counts while if they are similar, it is more difficult to decide what an appropriate class label should be."
   ]
  },
  {
   "cell_type": "code",
   "execution_count": 99,
   "metadata": {},
   "outputs": [],
   "source": [
    "# entropy cost associated with an attribute\n",
    "# ASSUME: last column of input dataset is 'counts' associated with particular outcome\n",
    "# ASSUME: first column is class label\n",
    "\n",
    "### ENTROPY CORRECT - MY ORIGINAL SCRATCHWORK HAD A TYPO FOR SCALING FACTORS!\n",
    "\n",
    "def entropy(dataset, attribute, debug_flag=False):\n",
    "    label = dataset.iloc[:,0] # 1st column class label\n",
    "    total_counts = sum(dataset['count'])\n",
    "    total_entropy = 0\n",
    "    \n",
    "    for value in set(dataset[attribute]):\n",
    "        if debug_flag: print(attribute, value) #debugging\n",
    "        sub_data = dataset.loc[dataset[attribute] == value]\n",
    "        if debug_flag: print(sub_data) #debugging\n",
    "        \n",
    "        label_counts = []\n",
    "        for label_value in set(label):\n",
    "            # pick out rows from sub data with desired label value\n",
    "            sub_sub_data = sub_data.loc[sub_data.iloc[:,0] == label_value] \n",
    "            label_counts.append(sum(sub_sub_data['count']))\n",
    "\n",
    "        if debug_flag: print(label_counts) #debugging\n",
    "        if debug_flag: print(str(sum(label_counts)) + '/' + str(total_counts) + ' * I()' ) #debugging\n",
    "\n",
    "\n",
    "        total_entropy += (sum(label_counts)/total_counts) * info_measure(label_counts)\n",
    "    if debug_flag: print('*'*50)\n",
    "    return total_entropy\n"
   ]
  },
  {
   "cell_type": "code",
   "execution_count": 100,
   "metadata": {},
   "outputs": [
    {
     "name": "stdout",
     "output_type": "stream",
     "text": [
      "   credit-ranking      age gender year-income count\n",
      "0       Excellent     < 30      M  60k - 100k    16\n",
      "1       Excellent     < 30      F      > 100k     4\n",
      "2       Excellent     > 60      M      > 100k     4\n",
      "3       Excellent     > 60      F  60k - 100k    16\n",
      "4            Good  30 - 60      M       < 60k     5\n",
      "5            Good  30 - 60      F  60k - 100k    15\n",
      "6            Good     < 30      M      > 100k     5\n",
      "7            Good     < 30      F  60k - 100k    15\n",
      "8            Fair     > 60      M      > 100k     2\n",
      "9            Fair  30 - 60      F  60k - 100k     2\n",
      "10           Fair     < 30      M  60k - 100k    18\n",
      "11           Fair     < 30      F       < 60k    18\n",
      "\n",
      "**************************************************\n",
      "\n",
      "('age', 'entropy: 1.1265494549903445')\n"
     ]
    }
   ],
   "source": [
    "### ENTROPY on example dataset df\n",
    "\n",
    "print(ex_df)\n",
    "\n",
    "print()\n",
    "print('*' * 50)\n",
    "print()\n",
    "\n",
    "## Possible attributes to compute entropy on:\n",
    "## Remove class label and count columns from consideration\n",
    "possible_attributes = list(ex_df.columns)\n",
    "possible_attributes = [possible_attributes[i] for i in range(1,len(possible_attributes)-1)] \n",
    "\n",
    "print((possible_attributes[0], 'entropy: ' \n",
    "       + str(entropy(ex_df, possible_attributes[0], debug_flag = False))))"
   ]
  },
  {
   "cell_type": "code",
   "execution_count": 93,
   "metadata": {},
   "outputs": [],
   "source": [
    "# Define Information Gain Criteria \n",
    "# equivalent to minimizing entropy but has a nice interpretation\n",
    "\n",
    "def info_gain(dataset, attribute, debug_flag = False):\n",
    "    \n",
    "    #get label counts\n",
    "    label = dataset.iloc[:,0] # assume it's first column for now\n",
    "    label_counts = []\n",
    "    \n",
    "    for label_value in set(label):\n",
    "        # pick out rows from dataset with desired label value\n",
    "        sub_data = dataset.loc[dataset.iloc[:,0] == label_value] \n",
    "        label_counts.append(sum(sub_data['count']))\n",
    "\n",
    "    if debug_flag: \n",
    "        print('I(...):', label_counts) #debugging\n",
    "        print('*'*50) #debugging\n",
    "    \n",
    "    I = info_measure(label_counts)\n",
    "    return I - entropy(dataset, attribute, debug_flag)\n"
   ]
  },
  {
   "cell_type": "code",
   "execution_count": 94,
   "metadata": {},
   "outputs": [
    {
     "name": "stdout",
     "output_type": "stream",
     "text": [
      "I(...): [40, 40, 40]\n",
      "**************************************************\n",
      "year-income > 100k\n",
      "  credit-ranking   age gender year-income count\n",
      "1      Excellent  < 30      F      > 100k     4\n",
      "2      Excellent  > 60      M      > 100k     4\n",
      "6           Good  < 30      M      > 100k     5\n",
      "8           Fair  > 60      M      > 100k     2\n",
      "[5, 8, 2]\n",
      "15/120 * I()\n",
      "year-income 60k - 100k\n",
      "   credit-ranking      age gender year-income count\n",
      "0       Excellent     < 30      M  60k - 100k    16\n",
      "3       Excellent     > 60      F  60k - 100k    16\n",
      "5            Good  30 - 60      F  60k - 100k    15\n",
      "7            Good     < 30      F  60k - 100k    15\n",
      "9            Fair  30 - 60      F  60k - 100k     2\n",
      "10           Fair     < 30      M  60k - 100k    18\n",
      "[30, 32, 20]\n",
      "82/120 * I()\n",
      "year-income < 60k\n",
      "   credit-ranking      age gender year-income count\n",
      "4            Good  30 - 60      M       < 60k     5\n",
      "11           Fair     < 30      F       < 60k    18\n",
      "[5, 0, 18]\n",
      "23/120 * I()\n",
      "**************************************************\n"
     ]
    },
    {
     "data": {
      "text/plain": [
       "0.20128468771045704"
      ]
     },
     "execution_count": 94,
     "metadata": {},
     "output_type": "execute_result"
    }
   ],
   "source": [
    "info_gain(ex_df,possible_attributes[2],debug_flag=True)"
   ]
  },
  {
   "cell_type": "code",
   "execution_count": 95,
   "metadata": {},
   "outputs": [
    {
     "name": "stdout",
     "output_type": "stream",
     "text": [
      "('age', 'entropy: 1.1265494549903445', 'gain: 0.45841304573081154')\n",
      "('gender', 'entropy: 1.5421864522230475', 'gain: 0.042776048498108565')\n",
      "('year-income', 'entropy: 1.383677813010699', 'gain: 0.20128468771045704')\n"
     ]
    }
   ],
   "source": [
    "for attribute in possible_attributes:\n",
    "    print(( attribute, 'entropy: ' + str(entropy(ex_df,attribute)), 'gain: ' + str(info_gain(ex_df,attribute)) ))\n",
    "# information gained by branching on attribute A"
   ]
  },
  {
   "cell_type": "markdown",
   "metadata": {},
   "source": [
    "## Growing Decision Trees:\n",
    "\n",
    "Now that we have a properly defined information gain metric for a given attribute of a dataset, we're prepared to use this to implement growing a decision tree such that it maximizes local information gain on each attribute, at each step. \n",
    "\n",
    "Note: We should be careful to avoid overgrowing the tree (various methods not yet implemented) as well as to look into methods to post/pre prune a tree in order to avoid over-fitting the decision tree model on the data. For example, we could implement a $k$-fold cross validation method to grow $k$ different trees on train/test folds and compare the overall accuracy obtained. \n",
    "\n",
    "### Printing decision trees\n",
    "\n",
    "Here is a first pass at a growing-decision-tree algorithm, that prints generated decision rules as well as debugging info. It will automatically grow decisions to full length (use every attribute) even when not necessary. This overgrowing will be optimized for the proper algorithm."
   ]
  },
  {
   "cell_type": "code",
   "execution_count": 191,
   "metadata": {},
   "outputs": [],
   "source": [
    "#### GROWING DECISION TREES:\n",
    "\n",
    "def print_decision_tree(dataset, condition_text='', debug_flag = False): # condition_text used to pass conditions down the desicion tree (for printing)\n",
    "    \n",
    "    if debug_flag: print(dataset) # for debugging\n",
    "    \n",
    "    columns = list(dataset.columns)\n",
    "#     label = columns[0]\n",
    "#     counts = columns[len(columns)]\n",
    "    \n",
    "    # get possible attributes for branching\n",
    "    possible_attributes = columns\n",
    "    possible_attributes = [possible_attributes[i] for i in range(1,len(possible_attributes)-1)] # remove first entry (class label) and last (count)\n",
    "\n",
    "    if len(possible_attributes) > 0: ### can still keep branching\n",
    "        \n",
    "        # maximize info gain on possible attributes\n",
    "        info_gains = [info_gain(dataset, attribute) for attribute in possible_attributes]\n",
    "        # as first index for label wasn't included in info_gains, we do +1 to get the correct index\n",
    "        branching_index = info_gains.index(max(info_gains)) + 1 \n",
    "\n",
    "        new_condition = 'branch on ' + str(columns[branching_index]) # the new attribute to branch on\n",
    "#         print( new_condition ) # this info is printed as 'rule' below\n",
    "\n",
    "        branching_attribute = dataset.iloc[:,branching_index]\n",
    "        for attribute_value in set(branching_attribute):\n",
    "            sub_dataset = dataset.loc[ dataset.iloc[:,branching_index] == attribute_value]\n",
    "            sub_dataset = sub_dataset.drop(columns[branching_index], axis=1)\n",
    "            \n",
    "            rule = condition_text + ' ' + new_condition + ': ' + str(attribute_value)\n",
    "            print(rule)\n",
    "#             print(attribute_value)\n",
    "            # iterate\n",
    "            print_decision_tree( sub_dataset, rule, debug_flag )\n",
    "        \n",
    "    else: # no more attributes to split on, so take majority vote to decide what the correct label is\n",
    "        \n",
    "        votes = []\n",
    "        for outcome in set(dataset.iloc[:,0]):\n",
    "            sub_dataset = dataset.loc[dataset.iloc[:,0] == outcome]\n",
    "            votes.append( [outcome, sum(sub_dataset['count'])] )\n",
    "        \n",
    "        temp = [x[1] for x in votes]\n",
    "        decision_index = temp.index(max(temp))\n",
    "        decision = votes[decision_index][0]\n",
    "        \n",
    "        print( 'final decision: ' + str(decision))\n",
    "        print('*'*50)\n",
    "    \n",
    "    return # returns null-type"
   ]
  },
  {
   "cell_type": "code",
   "execution_count": 193,
   "metadata": {},
   "outputs": [],
   "source": [
    "# Example\n",
    "print_decision_tree(ex_df)\n"
   ]
  },
  {
   "cell_type": "markdown",
   "metadata": {},
   "source": [
    "After that first pass, we're ready to correct "
   ]
  },
  {
   "cell_type": "markdown",
   "metadata": {},
   "source": [
    "### STILL TO DO:\n",
    "\n",
    "* CLEAN UP CODE + ORGANIZE\n",
    "* IMPLEMENT CODE THAT CHECKS FOR BAD INPUTS\n",
    "* ORGANIZE DOCUMENTATION ESP OF CONDITIONS FOR DATASET\n",
    "* ADD CODE FOR WHAT TO DO IF INFORMATION PURITY IS A TIE\n",
    "* ADD CODE FOR HOW TO ITERATIVELY GROW THE TREE (BRANCH AND CONTINUE)\n",
    "* ADD CODE TO SAVE GENERATED DECISION RULES + COMPUTE THE ACCURACY\n",
    "* IMPLEMENT TREE CLASS AND HAVE IT GENERATE ACTUAL TREE OBJECTS\n",
    "\n",
    "* FAR OFF FUTURE - POTENTIALLY IMPLEMENT TREE PRUNING"
   ]
  },
  {
   "cell_type": "code",
   "execution_count": 200,
   "metadata": {},
   "outputs": [],
   "source": [
    "def decision_tree(dataset, condition_text='', decision_rules=[]): \n",
    "    \n",
    "    # to add: boolean 'readable' to tell it whether to save decision trees as 'human readable' \n",
    "    # or as '[attribute, attribute_val] entries in the list\n",
    "    \n",
    "#     decision_rules = []\n",
    "    \n",
    "    columns = list(dataset.columns)\n",
    "#     label = columns[0]\n",
    "#     counts = columns[len(columns)]\n",
    "    \n",
    "    possible_attributes = columns\n",
    "    possible_attributes = [possible_attributes[i] for i in range(1,len(possible_attributes)-1)] # remove first entry (class label) and last (count)\n",
    "\n",
    "    if len(possible_attributes) > 0: ### can keep branching\n",
    "        \n",
    "        # maximize info gain on possible attributes\n",
    "        info_gains = [info_gain(dataset, attribute) for attribute in possible_attributes]\n",
    "        branching_index = info_gains.index(max(info_gains)) + 1 # as first index for label wasn't included in info_gains\n",
    "\n",
    "        new_condition = 'branch on ' + str(columns[branching_index])\n",
    "\n",
    "        branching_attribute = dataset.iloc[:,branching_index]\n",
    "        for attribute_value in set(branching_attribute):\n",
    "            sub_dataset = dataset.loc[ dataset.iloc[:,branching_index] == attribute_value]\n",
    "            sub_dataset = sub_dataset.drop(columns[branching_index], axis=1)\n",
    "            \n",
    "            rule = condition_text + ' ' + new_condition + ': ' + str(attribute_value)\n",
    "#             print(rule)\n",
    "            \n",
    "            # If it's a 'complete decision rule' add it to the list\n",
    "            if len(possible_attributes) == 1: decision_rules.append( [rule], )\n",
    "#             print(attribute_value)\n",
    "            # iterate\n",
    "            decision_tree( sub_dataset, rule, decision_rules )\n",
    "                \n",
    "    else: # no more attributes to split on, so take majority vote to decide what the correct label is\n",
    "        \n",
    "        votes = []\n",
    "        for outcome in set(dataset.iloc[:,0]):\n",
    "            sub_dataset = dataset.loc[dataset.iloc[:,0] == outcome]\n",
    "            votes.append( [outcome, sum(sub_dataset['count'])] )\n",
    "        \n",
    "        temp = [x[1] for x in votes]\n",
    "        decision_index = temp.index(max(temp))\n",
    "        decision = votes[decision_index][0]\n",
    "        \n",
    "        print( ' final decision: ' + str(decision))\n",
    "#         print('*'*50)\n",
    "        \n",
    "        decision_rules + [' final decision: ' + str(decision)]\n",
    "    \n",
    "    return decision_rules"
   ]
  },
  {
   "cell_type": "code",
   "execution_count": 201,
   "metadata": {},
   "outputs": [
    {
     "name": "stdout",
     "output_type": "stream",
     "text": [
      " final decision: Excellent\n",
      " final decision: Good\n",
      " final decision: Good\n",
      " final decision: Fair\n",
      " final decision: Fair\n",
      " final decision: Excellent\n",
      " final decision: Excellent\n",
      " final decision: Good\n",
      " final decision: Good\n",
      "   credit-ranking      age gender year-income count\n",
      "0       Excellent     < 30      M  60k - 100k    16\n",
      "1       Excellent     < 30      F      > 100k     4\n",
      "2       Excellent     > 60      M      > 100k     4\n",
      "3       Excellent     > 60      F  60k - 100k    16\n",
      "4            Good  30 - 60      M       < 60k     5\n",
      "5            Good  30 - 60      F  60k - 100k    15\n",
      "6            Good     < 30      M      > 100k     5\n",
      "7            Good     < 30      F  60k - 100k    15\n",
      "8            Fair     > 60      M      > 100k     2\n",
      "9            Fair  30 - 60      F  60k - 100k     2\n",
      "10           Fair     < 30      M  60k - 100k    18\n",
      "11           Fair     < 30      F       < 60k    18\n"
     ]
    },
    {
     "data": {
      "text/plain": [
       "[[' branch on age: < 30 branch on year-income: > 100k branch on gender: F'],\n",
       " [' branch on age: < 30 branch on year-income: > 100k branch on gender: M'],\n",
       " [' branch on age: < 30 branch on year-income: 60k - 100k branch on gender: F'],\n",
       " [' branch on age: < 30 branch on year-income: 60k - 100k branch on gender: M'],\n",
       " [' branch on age: < 30 branch on year-income: < 60k branch on gender: F'],\n",
       " [' branch on age: > 60 branch on gender: F branch on year-income: 60k - 100k'],\n",
       " [' branch on age: > 60 branch on gender: M branch on year-income: > 100k'],\n",
       " [' branch on age: 30 - 60 branch on gender: F branch on year-income: 60k - 100k'],\n",
       " [' branch on age: 30 - 60 branch on gender: M branch on year-income: < 60k']]"
      ]
     },
     "execution_count": 201,
     "metadata": {},
     "output_type": "execute_result"
    }
   ],
   "source": [
    "tree = decision_tree(ex_df)\n",
    "\n",
    "print(ex_df)\n",
    "tree"
   ]
  },
  {
   "cell_type": "code",
   "execution_count": null,
   "metadata": {},
   "outputs": [],
   "source": [
    "# an entry in the decision rules list should looke like:\n",
    "# [' branch on age: < 30 branch on year-income: > 100k branch on gender: F'] becomes\n",
    "\n",
    "branch = [[age,< 30],[year-income,> 100k], [gender,F]]\n",
    "outcome = [credit-ranking,Excellent]\n",
    "a_single_rule = [branch, outcome] # last one is the decision!\n",
    "\n",
    "# will write a function that outputs the datapoints satisfying the decision rule branch\n",
    "# and computes the accuracy of the predicted outcome on the data"
   ]
  },
  {
   "cell_type": "code",
   "execution_count": 96,
   "metadata": {},
   "outputs": [
    {
     "data": {
      "text/html": [
       "<div>\n",
       "<style>\n",
       "    .dataframe thead tr:only-child th {\n",
       "        text-align: right;\n",
       "    }\n",
       "\n",
       "    .dataframe thead th {\n",
       "        text-align: left;\n",
       "    }\n",
       "\n",
       "    .dataframe tbody tr th {\n",
       "        vertical-align: top;\n",
       "    }\n",
       "</style>\n",
       "<table border=\"1\" class=\"dataframe\">\n",
       "  <thead>\n",
       "    <tr style=\"text-align: right;\">\n",
       "      <th></th>\n",
       "      <th>credit-ranking</th>\n",
       "      <th>age</th>\n",
       "      <th>gender</th>\n",
       "      <th>year-income</th>\n",
       "      <th>count</th>\n",
       "    </tr>\n",
       "  </thead>\n",
       "  <tbody>\n",
       "    <tr>\n",
       "      <th>0</th>\n",
       "      <td>Excellent</td>\n",
       "      <td>&lt; 30</td>\n",
       "      <td>M</td>\n",
       "      <td>60k - 100k</td>\n",
       "      <td>16</td>\n",
       "    </tr>\n",
       "    <tr>\n",
       "      <th>1</th>\n",
       "      <td>Excellent</td>\n",
       "      <td>&lt; 30</td>\n",
       "      <td>F</td>\n",
       "      <td>&gt; 100k</td>\n",
       "      <td>4</td>\n",
       "    </tr>\n",
       "    <tr>\n",
       "      <th>2</th>\n",
       "      <td>Excellent</td>\n",
       "      <td>&gt; 60</td>\n",
       "      <td>M</td>\n",
       "      <td>&gt; 100k</td>\n",
       "      <td>4</td>\n",
       "    </tr>\n",
       "    <tr>\n",
       "      <th>3</th>\n",
       "      <td>Excellent</td>\n",
       "      <td>&gt; 60</td>\n",
       "      <td>F</td>\n",
       "      <td>60k - 100k</td>\n",
       "      <td>16</td>\n",
       "    </tr>\n",
       "    <tr>\n",
       "      <th>4</th>\n",
       "      <td>Good</td>\n",
       "      <td>30 - 60</td>\n",
       "      <td>M</td>\n",
       "      <td>&lt; 60k</td>\n",
       "      <td>5</td>\n",
       "    </tr>\n",
       "    <tr>\n",
       "      <th>5</th>\n",
       "      <td>Good</td>\n",
       "      <td>30 - 60</td>\n",
       "      <td>F</td>\n",
       "      <td>60k - 100k</td>\n",
       "      <td>15</td>\n",
       "    </tr>\n",
       "    <tr>\n",
       "      <th>6</th>\n",
       "      <td>Good</td>\n",
       "      <td>&lt; 30</td>\n",
       "      <td>M</td>\n",
       "      <td>&gt; 100k</td>\n",
       "      <td>5</td>\n",
       "    </tr>\n",
       "    <tr>\n",
       "      <th>7</th>\n",
       "      <td>Good</td>\n",
       "      <td>&lt; 30</td>\n",
       "      <td>F</td>\n",
       "      <td>60k - 100k</td>\n",
       "      <td>15</td>\n",
       "    </tr>\n",
       "    <tr>\n",
       "      <th>8</th>\n",
       "      <td>Fair</td>\n",
       "      <td>&gt; 60</td>\n",
       "      <td>M</td>\n",
       "      <td>&gt; 100k</td>\n",
       "      <td>2</td>\n",
       "    </tr>\n",
       "    <tr>\n",
       "      <th>9</th>\n",
       "      <td>Fair</td>\n",
       "      <td>30 - 60</td>\n",
       "      <td>F</td>\n",
       "      <td>60k - 100k</td>\n",
       "      <td>2</td>\n",
       "    </tr>\n",
       "    <tr>\n",
       "      <th>10</th>\n",
       "      <td>Fair</td>\n",
       "      <td>&lt; 30</td>\n",
       "      <td>M</td>\n",
       "      <td>60k - 100k</td>\n",
       "      <td>18</td>\n",
       "    </tr>\n",
       "    <tr>\n",
       "      <th>11</th>\n",
       "      <td>Fair</td>\n",
       "      <td>&lt; 30</td>\n",
       "      <td>F</td>\n",
       "      <td>&lt; 60k</td>\n",
       "      <td>18</td>\n",
       "    </tr>\n",
       "  </tbody>\n",
       "</table>\n",
       "</div>"
      ],
      "text/plain": [
       "   credit-ranking      age gender year-income count\n",
       "0       Excellent     < 30      M  60k - 100k    16\n",
       "1       Excellent     < 30      F      > 100k     4\n",
       "2       Excellent     > 60      M      > 100k     4\n",
       "3       Excellent     > 60      F  60k - 100k    16\n",
       "4            Good  30 - 60      M       < 60k     5\n",
       "5            Good  30 - 60      F  60k - 100k    15\n",
       "6            Good     < 30      M      > 100k     5\n",
       "7            Good     < 30      F  60k - 100k    15\n",
       "8            Fair     > 60      M      > 100k     2\n",
       "9            Fair  30 - 60      F  60k - 100k     2\n",
       "10           Fair     < 30      M  60k - 100k    18\n",
       "11           Fair     < 30      F       < 60k    18"
      ]
     },
     "execution_count": 96,
     "metadata": {},
     "output_type": "execute_result"
    }
   ],
   "source": [
    "ex_df"
   ]
  },
  {
   "cell_type": "code",
   "execution_count": 43,
   "metadata": {},
   "outputs": [
    {
     "name": "stdout",
     "output_type": "stream",
     "text": [
      "   credit-ranking   age gender year-income count\n",
      "0       Excellent  < 30      M  60k - 100k    16\n",
      "1       Excellent  < 30      F      > 100k     4\n",
      "6            Good  < 30      M      > 100k     5\n",
      "7            Good  < 30      F  60k - 100k    15\n",
      "10           Fair  < 30      M  60k - 100k    18\n",
      "11           Fair  < 30      F       < 60k    18\n",
      "  credit-ranking   age gender year-income count\n",
      "2      Excellent  > 60      M      > 100k     4\n",
      "3      Excellent  > 60      F  60k - 100k    16\n",
      "8           Fair  > 60      M      > 100k     2\n",
      "  credit-ranking      age gender year-income count\n",
      "4           Good  30 - 60      M       < 60k     5\n",
      "5           Good  30 - 60      F  60k - 100k    15\n",
      "9           Fair  30 - 60      F  60k - 100k     2\n"
     ]
    }
   ],
   "source": [
    "for attribute_value in set(ex_df['age']):\n",
    "    sub_dataset = ex_df.loc[ ex_df.iloc[:,1] == attribute_value]\n",
    "    sub_dataset.drop( list(sub_dataset.columns)[1], axis = 1 )\n",
    "    print(sub_dataset)"
   ]
  },
  {
   "cell_type": "code",
   "execution_count": 52,
   "metadata": {},
   "outputs": [
    {
     "data": {
      "text/html": [
       "<div>\n",
       "<style>\n",
       "    .dataframe thead tr:only-child th {\n",
       "        text-align: right;\n",
       "    }\n",
       "\n",
       "    .dataframe thead th {\n",
       "        text-align: left;\n",
       "    }\n",
       "\n",
       "    .dataframe tbody tr th {\n",
       "        vertical-align: top;\n",
       "    }\n",
       "</style>\n",
       "<table border=\"1\" class=\"dataframe\">\n",
       "  <thead>\n",
       "    <tr style=\"text-align: right;\">\n",
       "      <th></th>\n",
       "      <th>credit-ranking</th>\n",
       "      <th>gender</th>\n",
       "      <th>year-income</th>\n",
       "      <th>count</th>\n",
       "    </tr>\n",
       "  </thead>\n",
       "  <tbody>\n",
       "    <tr>\n",
       "      <th>0</th>\n",
       "      <td>Excellent</td>\n",
       "      <td>M</td>\n",
       "      <td>60k - 100k</td>\n",
       "      <td>16</td>\n",
       "    </tr>\n",
       "    <tr>\n",
       "      <th>1</th>\n",
       "      <td>Excellent</td>\n",
       "      <td>F</td>\n",
       "      <td>&gt; 100k</td>\n",
       "      <td>4</td>\n",
       "    </tr>\n",
       "    <tr>\n",
       "      <th>6</th>\n",
       "      <td>Good</td>\n",
       "      <td>M</td>\n",
       "      <td>&gt; 100k</td>\n",
       "      <td>5</td>\n",
       "    </tr>\n",
       "    <tr>\n",
       "      <th>7</th>\n",
       "      <td>Good</td>\n",
       "      <td>F</td>\n",
       "      <td>60k - 100k</td>\n",
       "      <td>15</td>\n",
       "    </tr>\n",
       "    <tr>\n",
       "      <th>10</th>\n",
       "      <td>Fair</td>\n",
       "      <td>M</td>\n",
       "      <td>60k - 100k</td>\n",
       "      <td>18</td>\n",
       "    </tr>\n",
       "    <tr>\n",
       "      <th>11</th>\n",
       "      <td>Fair</td>\n",
       "      <td>F</td>\n",
       "      <td>&lt; 60k</td>\n",
       "      <td>18</td>\n",
       "    </tr>\n",
       "  </tbody>\n",
       "</table>\n",
       "</div>"
      ],
      "text/plain": [
       "   credit-ranking gender year-income count\n",
       "0       Excellent      M  60k - 100k    16\n",
       "1       Excellent      F      > 100k     4\n",
       "6            Good      M      > 100k     5\n",
       "7            Good      F  60k - 100k    15\n",
       "10           Fair      M  60k - 100k    18\n",
       "11           Fair      F       < 60k    18"
      ]
     },
     "execution_count": 52,
     "metadata": {},
     "output_type": "execute_result"
    }
   ],
   "source": [
    "sub_dataset = ex_df.loc[ ex_df.iloc[:,1] == list (set(ex_df['age']))[0]]\n",
    "sub_dataset = sub_dataset.drop( list(sub_dataset.columns)[1], axis = 1 )\n",
    "\n",
    "sub_dataset"
   ]
  },
  {
   "cell_type": "code",
   "execution_count": null,
   "metadata": {
    "collapsed": true
   },
   "outputs": [],
   "source": []
  }
 ],
 "metadata": {
  "kernelspec": {
   "display_name": "Python 3",
   "language": "python",
   "name": "python3"
  },
  "language_info": {
   "codemirror_mode": {
    "name": "ipython",
    "version": 3
   },
   "file_extension": ".py",
   "mimetype": "text/x-python",
   "name": "python",
   "nbconvert_exporter": "python",
   "pygments_lexer": "ipython3",
   "version": "3.6.3"
  }
 },
 "nbformat": 4,
 "nbformat_minor": 2
}
